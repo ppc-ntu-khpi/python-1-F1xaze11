{
  "nbformat": 4,
  "nbformat_minor": 0,
  "metadata": {
    "colab": {
      "name": "4_Функції",
      "provenance": [],
      "toc_visible": true
    },
    "kernelspec": {
      "name": "python3",
      "display_name": "Python 3"
    },
    "language_info": {
      "name": "python"
    }
  },
  "cells": [
    {
      "cell_type": "markdown",
      "metadata": {
        "id": "0NWjKt0FFHOj"
      },
      "source": [
        "# Функції"
      ]
    },
    {
      "cell_type": "markdown",
      "metadata": {
        "id": "gTIZYir9FEtw"
      },
      "source": [
        "## 1. Функції однієї змінної"
      ]
    },
    {
      "cell_type": "markdown",
      "metadata": {
        "id": "YoKhx_h0FFRy"
      },
      "source": [
        "Треба попросити користувача ввести десять цілих чисел (якщо число більше 10 або менше 0 - відкидаємо його) й наповнити список результатами обчислення значення такого виразу за введеним числом:\n",
        "$$\n",
        " x^2+1\n",
        "$$\n",
        "\n"
      ]
    },
    {
      "cell_type": "code",
      "metadata": {
        "colab": {
          "base_uri": "https://localhost:8080/"
        },
        "id": "MxeAZwX1FFeu",
        "outputId": "c34de048-c509-4822-fa2d-f1205aa6eb9a"
      },
      "source": [
        "def sqrPlus1(x):\n",
        "    return x**2 + 1\n",
        "numbers = []\n",
        "n = 1\n",
        "while True:\n",
        "    if n <= 10:\n",
        "        x = int(input(f\"{n} - введіть число від 0 до 10: \"))\n",
        "\n",
        "        if 0 <= x <= 10:\n",
        "            numbers.append(sqrPlus1(x))\n",
        "        else:\n",
        "            print(\"Потрібне число від 0 до 10!\")\n",
        "    else:\n",
        "        break\n",
        "    n = n + 1\n",
        "numbers"
      ],
      "execution_count": 3,
      "outputs": [
        {
          "name": "stdout",
          "output_type": "stream",
          "text": [
            "1 - введіть число від 0 до 10: 5\n",
            "2 - введіть число від 0 до 10: 1\n",
            "3 - введіть число від 0 до 10: 2\n",
            "4 - введіть число від 0 до 10: 6\n",
            "5 - введіть число від 0 до 10: 9\n",
            "6 - введіть число від 0 до 10: 10\n",
            "7 - введіть число від 0 до 10: 11\n",
            "Потрібне число від 0 до 10!\n",
            "8 - введіть число від 0 до 10: 5\n",
            "9 - введіть число від 0 до 10: 2\n",
            "10 - введіть число від 0 до 10: 0\n"
          ]
        },
        {
          "output_type": "execute_result",
          "data": {
            "text/plain": [
              "[26, 2, 5, 37, 82, 101, 26, 5, 1]"
            ]
          },
          "metadata": {},
          "execution_count": 3
        }
      ]
    },
    {
      "cell_type": "markdown",
      "metadata": {
        "id": "Qw8rpCPQIeQi"
      },
      "source": [
        "## 2. Лямбда-функції"
      ]
    },
    {
      "cell_type": "markdown",
      "metadata": {
        "id": "NLz32FZQIeDx"
      },
      "source": [
        "Напищіть чотири лямбда-функції для виконання чотирьох арифметичних дій - додавання, віднімання, множення та ділення (якщо друге число дорівнює нулю, результат має бути нуль - тут зручно використати тернарний оператор) для програми-калькулятора."
      ]
    },
    {
      "cell_type": "code",
      "metadata": {
        "colab": {
          "base_uri": "https://localhost:8080/"
        },
        "id": "n9zDmRTzIfhe",
        "outputId": "abe25c9e-bead-4df8-b0c0-ed5f5124e29d"
      },
      "source": [
        "add = lambda a, b: a + b\n",
        "sub = lambda a, b: a - b\n",
        "mul = lambda a, b: a * b\n",
        "div = lambda a, b: a / b if b != 0 else 0\n",
        "a = int(input(\"Введіть перше число: \"))\n",
        "b = int(input(\"Введіть друге число: \"))\n",
        "menu = {\n",
        "    '1': \"Додати числа\",\n",
        "    '2': \"Відняти числа\",\n",
        "    '3': \"Перемножити числа\",\n",
        "    '4': \"Поділити числа\",\n",
        "    '5': \"Завершити роботу\"\n",
        "}\n",
        "for entry in menu:\n",
        "    print(entry, menu[entry])\n",
        "while True:\n",
        "    selection = input(\"Оберіть операцію: \")\n",
        "    if selection == '1':\n",
        "        print(\"Додавання:\", add(a, b))\n",
        "    elif selection == '2':\n",
        "        print(\"Віднімання:\", sub(a, b))\n",
        "    elif selection == '3':\n",
        "        print(\"Множення:\", mul(a, b))\n",
        "    elif selection == '4':\n",
        "        print(\"Ділення:\", div(a, b))\n",
        "    elif selection == '5':\n",
        "        break\n",
        "    else:\n",
        "        print(\"Невідома операція!\")"
      ],
      "execution_count": 4,
      "outputs": [
        {
          "name": "stdout",
          "output_type": "stream",
          "text": [
            "Введіть перше число: 52\n",
            "Введіть друге число: 1448\n",
            "1 Додати числа\n",
            "2 Відняти числа\n",
            "3 Перемножити числа\n",
            "4 Поділити числа\n",
            "5 Завершити роботу\n",
            "Оберіть операцію: 4\n",
            "Ділення: 0.03591160220994475\n",
            "Оберіть операцію: 2\n",
            "Віднімання: -1396\n",
            "Оберіть операцію: 1\n",
            "Додавання: 1500\n",
            "Оберіть операцію: 3\n",
            "Множення: 75296\n",
            "Оберіть операцію: 5\n"
          ]
        }
      ]
    },
    {
      "cell_type": "markdown",
      "metadata": {
        "id": "PHvB7BM3MfLF"
      },
      "source": [
        "## 3. Функція з аргументами за замовчуванням"
      ]
    },
    {
      "cell_type": "markdown",
      "metadata": {
        "id": "7YJyiPk3MfeF"
      },
      "source": [
        "Написати функцію, яка просить чотири аргументи - номер агрегата (id), його назву (name), операцію, яку треба виконати (operation), приорітет (priority). Якщо значення двох останніх параметрів не задані, має виконуватись операція \"стоп\" з приорітетом \"високий\"."
      ]
    },
    {
      "cell_type": "code",
      "metadata": {
        "colab": {
          "base_uri": "https://localhost:8080/"
        },
        "id": "wFZR9BjLNH8S",
        "outputId": "9b596f81-9f9c-45c4-fba1-ac64d9341724"
      },
      "source": [
        "def controlEngine(id, name, operation=\"стоп\", priority=\"високий\"):\n",
        "    print('Агрегат:', name, '#', id, \"\\n\\tОбрана операція:\", operation, \"\\n\\tПриорітет:\", priority)\n",
        "controlEngine(1, \"реактор\")\n",
        "controlEngine(1, \"реактор\", \"запуск\")\n",
        "controlEngine(1, \"реактор\", priority=\"звичайний\")\n",
        "controlEngine(operation=\"запуск\", id=1, name=\"реактор\", priority=\"звичайний\")"
      ],
      "execution_count": 5,
      "outputs": [
        {
          "output_type": "stream",
          "name": "stdout",
          "text": [
            "Агрегат: реактор # 1 \n",
            "\tОбрана операція: стоп \n",
            "\tПриорітет: високий\n",
            "Агрегат: реактор # 1 \n",
            "\tОбрана операція: запуск \n",
            "\tПриорітет: високий\n",
            "Агрегат: реактор # 1 \n",
            "\tОбрана операція: стоп \n",
            "\tПриорітет: звичайний\n",
            "Агрегат: реактор # 1 \n",
            "\tОбрана операція: запуск \n",
            "\tПриорітет: звичайний\n"
          ]
        }
      ]
    }
  ]
}